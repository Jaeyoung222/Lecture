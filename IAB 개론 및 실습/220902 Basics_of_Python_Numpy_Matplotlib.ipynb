{
  "nbformat": 4,
  "nbformat_minor": 0,
  "metadata": {
    "kernelspec": {
      "display_name": "Python 3",
      "language": "python",
      "name": "python3"
    },
    "language_info": {
      "codemirror_mode": {
        "name": "ipython",
        "version": 3
      },
      "file_extension": ".py",
      "mimetype": "text/x-python",
      "name": "python",
      "nbconvert_exporter": "python",
      "pygments_lexer": "ipython3",
      "version": "3.6.2"
    },
    "colab": {
      "provenance": [],
      "collapsed_sections": [],
      "include_colab_link": true
    }
  },
  "cells": [
    {
      "cell_type": "markdown",
      "metadata": {
        "id": "view-in-github",
        "colab_type": "text"
      },
      "source": [
        "<a href=\"https://colab.research.google.com/github/Jaeyoung222/Algorithm/blob/main/Basics_of_Python_Numpy_Matplotlib.ipynb\" target=\"_parent\"><img src=\"https://colab.research.google.com/assets/colab-badge.svg\" alt=\"Open In Colab\"/></a>"
      ]
    },
    {
      "cell_type": "markdown",
      "metadata": {
        "id": "-URkc1yTZ4GZ"
      },
      "source": [
        "# IoT·인공지능·빅데이터 개론 및 실습 (M2177.004900_001) <br> 3/4 Basics of Python, Numpy, and Matplotlib\n",
        "\n",
        "Adapted by Seonwoo Min from the IPython version of the `CS231n` Python tutorial (http://cs231n.github.io/python-numpy-tutorial/).\n",
        "* 2019/3/6 Byunggook Na edited typos and refinded the contents.\n",
        "* 2020/8/26 Hyeokjun Choe edited typos and refinded the contents.\n",
        "\n",
        "In this excercise, we will cover:\n",
        "\n",
        "* Basic Python: List, Dictionary, Function, Class\n",
        "* Numpy: Array, Array indexing, Array math\n",
        "* Matplotlib: Plotting, Subplot"
      ]
    },
    {
      "cell_type": "markdown",
      "metadata": {
        "id": "4x0PX65tZ4Ga"
      },
      "source": [
        "## 1. Basic Python"
      ]
    },
    {
      "cell_type": "markdown",
      "metadata": {
        "id": "M5XF1FIjZ4Gb"
      },
      "source": [
        "### List\n",
        "A list is the Python equivalent of an array, but is resizeable and can contain elements of different types"
      ]
    },
    {
      "cell_type": "code",
      "metadata": {
        "id": "6jzBMsMaZ4Gc",
        "colab": {
          "base_uri": "https://localhost:8080/"
        },
        "outputId": "fe76e3ec-a91a-490b-f980-e6b7b7777081"
      },
      "source": [
        "#############################################################\n",
        "# General Usage\n",
        "#############################################################\n",
        "xs = [3, 1, 2]\n",
        "\n",
        "# Print the last indice\n",
        "# Negative indices count from the end of the list\n",
        "print(xs[-1]) "
      ],
      "execution_count": 2,
      "outputs": [
        {
          "output_type": "stream",
          "name": "stdout",
          "text": [
            "2\n"
          ]
        }
      ]
    },
    {
      "cell_type": "code",
      "source": [
        "# Add a new element to the end of the list\n",
        "xs.append('iab')\n",
        "print(xs)  "
      ],
      "metadata": {
        "id": "c3pAGvYygP53",
        "colab": {
          "base_uri": "https://localhost:8080/"
        },
        "outputId": "1e7d947c-bc9a-424f-ff64-38e8511c39ad"
      },
      "execution_count": 3,
      "outputs": [
        {
          "output_type": "stream",
          "name": "stdout",
          "text": [
            "[3, 1, 2, 'iab']\n"
          ]
        }
      ]
    },
    {
      "cell_type": "code",
      "source": [
        "# Remove and return the last element of the list\n",
        "x = xs.pop()\n",
        "print(x, xs)"
      ],
      "metadata": {
        "id": "hGn6GihNgTEC",
        "colab": {
          "base_uri": "https://localhost:8080/"
        },
        "outputId": "3ac8e9a6-5a9e-4f4a-dbfd-74e9dfe28866"
      },
      "execution_count": 4,
      "outputs": [
        {
          "output_type": "stream",
          "name": "stdout",
          "text": [
            "iab [3, 1, 2]\n"
          ]
        }
      ]
    },
    {
      "cell_type": "code",
      "metadata": {
        "id": "2KE-0fRvZ4Gh",
        "colab": {
          "base_uri": "https://localhost:8080/"
        },
        "outputId": "991888b1-2b1a-4f0f-f84b-747d71e4afa1"
      },
      "source": [
        "#############################################################\n",
        "# Slicing\n",
        "#############################################################\n",
        "# Create a list containing [0, 1, 2, 3, 4]\n",
        "# range() is a built-in function that creates a list of integers\n",
        "nums = list(range(5))\n",
        "print(nums)"
      ],
      "execution_count": 5,
      "outputs": [
        {
          "output_type": "stream",
          "name": "stdout",
          "text": [
            "[0, 1, 2, 3, 4]\n"
          ]
        }
      ]
    },
    {
      "cell_type": "code",
      "source": [
        "# Get a slice from index 2 to 4 (exclusive); prints \"[2, 3]\"\n",
        "print(nums[2:4])"
      ],
      "metadata": {
        "id": "9SYW17xRgX7j",
        "colab": {
          "base_uri": "https://localhost:8080/"
        },
        "outputId": "fbcd0ffc-809b-4f63-a705-25bbb4f6d0d3"
      },
      "execution_count": 7,
      "outputs": [
        {
          "output_type": "stream",
          "name": "stdout",
          "text": [
            "[2, 3]\n"
          ]
        }
      ]
    },
    {
      "cell_type": "code",
      "source": [
        "# Get a slice from index 2 to the end; prints \"[2, 3, 4]\"\n",
        "print(nums[2:])    "
      ],
      "metadata": {
        "id": "ENBhwBNygcb6",
        "colab": {
          "base_uri": "https://localhost:8080/"
        },
        "outputId": "415018e5-2097-46d8-b8df-f1c8b6f1aad0"
      },
      "execution_count": 8,
      "outputs": [
        {
          "output_type": "stream",
          "name": "stdout",
          "text": [
            "[2, 3, 4]\n"
          ]
        }
      ]
    },
    {
      "cell_type": "code",
      "source": [
        "# Get a slice from the start to index 2 (exclusive); prints \"[0, 1]\"\n",
        "print(nums[:2])    "
      ],
      "metadata": {
        "id": "fL_bdcS-gfG1",
        "colab": {
          "base_uri": "https://localhost:8080/"
        },
        "outputId": "19fc37ba-bd2a-42c6-dce6-327ab846a597"
      },
      "execution_count": 9,
      "outputs": [
        {
          "output_type": "stream",
          "name": "stdout",
          "text": [
            "[0, 1]\n"
          ]
        }
      ]
    },
    {
      "cell_type": "code",
      "source": [
        "# Get a slice of the whole list; prints [\"0, 1, 2, 3, 4]\"\n",
        "print(nums[:])"
      ],
      "metadata": {
        "id": "VYXIVIPZghR6",
        "colab": {
          "base_uri": "https://localhost:8080/"
        },
        "outputId": "3195eaf0-bd82-4b64-c79d-9df87073ad86"
      },
      "execution_count": 10,
      "outputs": [
        {
          "output_type": "stream",
          "name": "stdout",
          "text": [
            "[0, 1, 2, 3, 4]\n"
          ]
        }
      ]
    },
    {
      "cell_type": "code",
      "source": [
        "# Assign a new sublist to a slice; change nums into [0, 1, 8, 9, 4]\n",
        "nums = [0,1,8,9,4]\n",
        "print(nums)"
      ],
      "metadata": {
        "id": "eSUzZ1xGgjSC",
        "colab": {
          "base_uri": "https://localhost:8080/"
        },
        "outputId": "b1ab1375-ed01-4f83-910a-1e970a5a17f1"
      },
      "execution_count": 11,
      "outputs": [
        {
          "output_type": "stream",
          "name": "stdout",
          "text": [
            "[0, 1, 8, 9, 4]\n"
          ]
        }
      ]
    },
    {
      "cell_type": "code",
      "metadata": {
        "id": "v936lm-nZ4Gl",
        "colab": {
          "base_uri": "https://localhost:8080/"
        },
        "outputId": "9984b09b-ce5b-430b-98af-a57892c7c59d"
      },
      "source": [
        "#############################################################\n",
        "# Loop & Enumerate\n",
        "#############################################################\n",
        "animals = ['cat', 'dog', 'monkey']\n",
        "\n",
        "# Loop over and print the elements of the list:\n",
        "for animal in animals :\n",
        "  print(animal)\n"
      ],
      "execution_count": 12,
      "outputs": [
        {
          "output_type": "stream",
          "name": "stdout",
          "text": [
            "cat\n",
            "dog\n",
            "monkey\n"
          ]
        }
      ]
    },
    {
      "cell_type": "code",
      "source": [
        "# Loop over and print the index and value of each elements of the list:\n",
        "for i in range(len(animals)) :\n",
        "  print(i, animals[i])\n"
      ],
      "metadata": {
        "id": "lXMuFiHfg-oG",
        "colab": {
          "base_uri": "https://localhost:8080/"
        },
        "outputId": "7e7ce529-7ad2-476b-fc04-0426e7fcd701"
      },
      "execution_count": 13,
      "outputs": [
        {
          "output_type": "stream",
          "name": "stdout",
          "text": [
            "0 cat\n",
            "1 dog\n",
            "2 monkey\n"
          ]
        }
      ]
    },
    {
      "cell_type": "code",
      "metadata": {
        "id": "otf1fcLwZ4Gp",
        "colab": {
          "base_uri": "https://localhost:8080/"
        },
        "outputId": "0eb3ed3a-c7fc-47f2-f1cf-53dd4cb9d241"
      },
      "source": [
        "#############################################################\n",
        "# List comprehensions\n",
        "#############################################################\n",
        "nums = [0, 1, 2, 3, 4]\n",
        "squares = []\n",
        "for x in nums:\n",
        "    squares.append(x ** 2)\n",
        "print(squares)"
      ],
      "execution_count": 15,
      "outputs": [
        {
          "output_type": "stream",
          "name": "stdout",
          "text": [
            "[0, 1, 4, 9, 16]\n"
          ]
        }
      ]
    },
    {
      "cell_type": "code",
      "source": [
        "# Make this code simpler using a list comprehension\n",
        "squares = [x**2 for x in nums]\n",
        "print(squares)"
      ],
      "metadata": {
        "id": "UwPCyGSchyQl",
        "colab": {
          "base_uri": "https://localhost:8080/"
        },
        "outputId": "93dba143-a60d-4abd-fab1-1bdb1b0f1eea"
      },
      "execution_count": 16,
      "outputs": [
        {
          "output_type": "stream",
          "name": "stdout",
          "text": [
            "[0, 1, 4, 9, 16]\n"
          ]
        }
      ]
    },
    {
      "cell_type": "code",
      "source": [
        "# Make a list of squares of even numbers in the list\n",
        "# List comprehensions can also contain conditions\n",
        "even_squares = [x**2 for x in nums if x%2 == 0]\n",
        "print(even_squares)"
      ],
      "metadata": {
        "id": "I1fCyDSph4qd",
        "colab": {
          "base_uri": "https://localhost:8080/"
        },
        "outputId": "3d10502c-2972-41a3-a33e-9931b883b553"
      },
      "execution_count": 17,
      "outputs": [
        {
          "output_type": "stream",
          "name": "stdout",
          "text": [
            "[0, 4, 16]\n"
          ]
        }
      ]
    },
    {
      "cell_type": "markdown",
      "metadata": {
        "id": "jTG2Z435Z4Gt"
      },
      "source": [
        "### Dictionary\n",
        "A dictionary stores (key, value) pairs"
      ]
    },
    {
      "cell_type": "code",
      "metadata": {
        "id": "dJoUIq6aZ4Gu"
      },
      "source": [
        "#############################################################\n",
        "# General Usage\n",
        "#############################################################\n",
        "# Create a dictionary containing the followings key:value pairs\n",
        "# cat:cute  /  dog:furry\n",
        "d = {'cat': 'cute', 'dog': 'furry'} "
      ],
      "execution_count": 18,
      "outputs": []
    },
    {
      "cell_type": "code",
      "source": [
        "# print an entry 'cat' from a dictionary; prints 'cute'\n",
        "print(d['cat'])      "
      ],
      "metadata": {
        "id": "ICbh-_NQh9xq",
        "colab": {
          "base_uri": "https://localhost:8080/"
        },
        "outputId": "4eb4d577-4bea-4ef2-82b7-280e44b77447"
      },
      "execution_count": 20,
      "outputs": [
        {
          "output_type": "stream",
          "name": "stdout",
          "text": [
            "cute\n"
          ]
        }
      ]
    },
    {
      "cell_type": "code",
      "source": [
        "# Add another key:value pair\n",
        "# fish:wet\n",
        "d['fish'] = 'wet'"
      ],
      "metadata": {
        "id": "sMSLnYTViCFv"
      },
      "execution_count": 22,
      "outputs": []
    },
    {
      "cell_type": "code",
      "source": [
        "# Get an element with a default parameter; return \"N/A\" if not exists\n",
        "# fish / monkey\n",
        "print(d.get('fish','N/A'))    \n",
        "print(d.get('monkey','N/A'))  "
      ],
      "metadata": {
        "id": "tNclxNsOiEIX",
        "colab": {
          "base_uri": "https://localhost:8080/"
        },
        "outputId": "0b818b9a-1b08-4c84-c20f-5b4fcbf924c0"
      },
      "execution_count": 24,
      "outputs": [
        {
          "output_type": "stream",
          "name": "stdout",
          "text": [
            "wet\n",
            "N/A\n"
          ]
        }
      ]
    },
    {
      "cell_type": "code",
      "source": [
        "# Remove 'fish' from the dictionary\n",
        "del d['fish']\n",
        "print(d)"
      ],
      "metadata": {
        "id": "oR54FtM9iHjx",
        "colab": {
          "base_uri": "https://localhost:8080/"
        },
        "outputId": "b8e2e5f9-551d-4a33-f6d8-00c341760534"
      },
      "execution_count": 26,
      "outputs": [
        {
          "output_type": "stream",
          "name": "stdout",
          "text": [
            "{'cat': 'cute', 'dog': 'furry'}\n"
          ]
        }
      ]
    },
    {
      "cell_type": "code",
      "metadata": {
        "id": "F6laXBb-Z4Gy",
        "colab": {
          "base_uri": "https://localhost:8080/"
        },
        "outputId": "02bfccc7-6fc9-4e8f-a1b0-38a57c6d1665"
      },
      "source": [
        "#############################################################\n",
        "# Loop & Dictionary comprehensions\n",
        "#############################################################\n",
        "d = {'person': 2, 'cat': 4, 'spider': 8}\n",
        "\n",
        "# Loop over keys of the dictionary\n",
        "# Access the values with the keys\n",
        "for animal in d :\n",
        "    legs = d[animal]\n",
        "    print('A %s has %d legs' % (animal, legs))"
      ],
      "execution_count": 27,
      "outputs": [
        {
          "output_type": "stream",
          "name": "stdout",
          "text": [
            "A person has 2 legs\n",
            "A cat has 4 legs\n",
            "A spider has 8 legs\n"
          ]
        }
      ]
    },
    {
      "cell_type": "code",
      "source": [
        "# Loop over keys and values of the dictionary\n",
        "for animal,legs in d.items(): \n",
        "    print('A %s has %d legs' % (animal, legs))"
      ],
      "metadata": {
        "id": "H6z9ckt6iOt7",
        "colab": {
          "base_uri": "https://localhost:8080/"
        },
        "outputId": "9d00a7fb-bb7b-4117-ff8d-1181ae4fd2da"
      },
      "execution_count": 28,
      "outputs": [
        {
          "output_type": "stream",
          "name": "stdout",
          "text": [
            "A person has 2 legs\n",
            "A cat has 4 legs\n",
            "A spider has 8 legs\n"
          ]
        }
      ]
    },
    {
      "cell_type": "code",
      "source": [
        "# Make a dictionary of key:squares of even numbers in the list\n",
        "# Dictionary comprehensions can also contain conditions\n",
        "nums = [0, 1, 2, 3, 4]\n",
        "even_num_to_square = {x : x**2 for x in nums if x %2 == 0}\n",
        "print(even_num_to_square)"
      ],
      "metadata": {
        "id": "Dtlcl8-CicUk",
        "colab": {
          "base_uri": "https://localhost:8080/"
        },
        "outputId": "373c59e6-7f3b-4110-f10a-8666ad8e7e7f"
      },
      "execution_count": 29,
      "outputs": [
        {
          "output_type": "stream",
          "name": "stdout",
          "text": [
            "{0: 0, 2: 4, 4: 16}\n"
          ]
        }
      ]
    },
    {
      "cell_type": "markdown",
      "metadata": {
        "id": "dw5W9CC3Z4G2"
      },
      "source": [
        "### Function\n",
        "Python functions are defined using the `def` keyword"
      ]
    },
    {
      "cell_type": "code",
      "metadata": {
        "id": "3fmqPUKTZ4G3",
        "colab": {
          "base_uri": "https://localhost:8080/"
        },
        "outputId": "b6468d38-a31b-4dfe-c1c9-ca773fe3f666"
      },
      "source": [
        "from ast import Return\n",
        "#############################################################\n",
        "# General Usage\n",
        "#############################################################\n",
        "# Define a function called sign() with argument x\n",
        "# return 'positive' if x > 0\n",
        "# return 'negative' if x < 0\n",
        "# return 'zero' if x = 0\n",
        "def sign(x) :\n",
        "  if x >0 :\n",
        "    return 'positive'\n",
        "  elif x <0 :\n",
        "    return 'negative'\n",
        "    \n",
        "  else :\n",
        "    return 'zero'\n",
        "for x in [-1, 0, 1]:\n",
        "    print(sign(x))"
      ],
      "execution_count": 32,
      "outputs": [
        {
          "output_type": "stream",
          "name": "stdout",
          "text": [
            "negative\n",
            "zero\n",
            "positive\n"
          ]
        }
      ]
    },
    {
      "cell_type": "code",
      "metadata": {
        "id": "kKX-xxB1Z4G6",
        "colab": {
          "base_uri": "https://localhost:8080/"
        },
        "outputId": "025bf4d3-0045-4cc2-b7d6-0177428796e2"
      },
      "source": [
        "#############################################################\n",
        "# Optional keyword argument\n",
        "#############################################################\n",
        "# Define a function called hello()\n",
        "# argument: name\n",
        "# optional argument: loud (with default value False)\n",
        "# print \"HELLO, [name in large letter]\" if loud = True\n",
        "# print \"HELLO, [name in given form]\" if loud = False\n",
        "def hello(name,loud=False) :\n",
        "  if loud == True :\n",
        "    print('HELLO, '+name.upper())\n",
        "  else :\n",
        "    print('HELLO, '+name)\n",
        "        \n",
        "hello('Bob')\n",
        "hello('Fred', loud=True)"
      ],
      "execution_count": 33,
      "outputs": [
        {
          "output_type": "stream",
          "name": "stdout",
          "text": [
            "HELLO, Bob\n",
            "HELLO, FRED\n"
          ]
        }
      ]
    },
    {
      "cell_type": "markdown",
      "metadata": {
        "id": "NLdVOnhrZ4G-"
      },
      "source": [
        "### Class\n",
        "Python classes are defined using the `class` keyword"
      ]
    },
    {
      "cell_type": "code",
      "metadata": {
        "id": "n8LI5HakZ4G_",
        "colab": {
          "base_uri": "https://localhost:8080/"
        },
        "outputId": "0283f26f-f878-4c51-e744-bedd5b95fec0"
      },
      "source": [
        "from os import name\n",
        "#############################################################\n",
        "# General Usage\n",
        "#############################################################\n",
        "# Define a class called Greeter\n",
        "# Initialize its member variable <self.name> with a argument <name> whose default value is \"Alice\"\n",
        "# Define its member function called greet() that prints statements as in the above Function example\n",
        "class Greeter :\n",
        "  def __init__(self, name='Alice') :\n",
        "    self.name = name\n",
        "\n",
        "  def greet(self, loud = False) :\n",
        "    if loud == True :\n",
        "      print('HELLO, '+self.name.upper())\n",
        "    else :\n",
        "      print('HELLO, '+self.name)\n",
        "      \n",
        "g1 = Greeter('Fred')  \n",
        "g1.greet()            \n",
        "g1.greet(loud=True)  \n",
        "\n",
        "g2 = Greeter()  \n",
        "g2.greet()            \n",
        "g2.greet(loud=True)"
      ],
      "execution_count": 34,
      "outputs": [
        {
          "output_type": "stream",
          "name": "stdout",
          "text": [
            "HELLO, Fred\n",
            "HELLO, FRED\n",
            "HELLO, Alice\n",
            "HELLO, ALICE\n"
          ]
        }
      ]
    },
    {
      "cell_type": "markdown",
      "metadata": {
        "id": "hRPsHE9dZ4HD"
      },
      "source": [
        "## 2. Numpy"
      ]
    },
    {
      "cell_type": "code",
      "metadata": {
        "id": "zHcrYdv8Z4HE"
      },
      "source": [
        "import numpy as np"
      ],
      "execution_count": null,
      "outputs": []
    },
    {
      "cell_type": "markdown",
      "metadata": {
        "id": "rSYwbYloZ4HH"
      },
      "source": [
        "### Array\n",
        "A numpy array is a grid of values, all of the same type, and is indexed by a tuple of nonnegative integers."
      ]
    },
    {
      "cell_type": "code",
      "metadata": {
        "id": "Xsr3rssFZ4HI"
      },
      "source": [
        "# Create an 2-by-2 array of all zeros \n",
        "a = \n",
        "print(a)"
      ],
      "execution_count": null,
      "outputs": []
    },
    {
      "cell_type": "code",
      "source": [
        "# Create an 2-by-2 array of all ones \n",
        "a = \n",
        "print(a)"
      ],
      "metadata": {
        "id": "IVTSuyCGsoUB"
      },
      "execution_count": null,
      "outputs": []
    },
    {
      "cell_type": "code",
      "source": [
        "# Create an 2-by-2 array with random numbers\n",
        "a = \n",
        "print(a)"
      ],
      "metadata": {
        "id": "KoT_fYDwsqD-"
      },
      "execution_count": null,
      "outputs": []
    },
    {
      "cell_type": "code",
      "source": [
        "# Create an 1-by-6 array with elements 1 to 6\n",
        "a = \n",
        "print(a)"
      ],
      "metadata": {
        "id": "g7V8o-7fsrZs"
      },
      "execution_count": null,
      "outputs": []
    },
    {
      "cell_type": "code",
      "source": [
        "#Create a rank 2 array with elements 1 to 6\n",
        "b = \n",
        "print(b)"
      ],
      "metadata": {
        "id": "LZ9MgPiFss0S"
      },
      "execution_count": null,
      "outputs": []
    },
    {
      "cell_type": "code",
      "source": [
        "# print shape of the array\n",
        "print()    "
      ],
      "metadata": {
        "id": "X4TcG6n2suNK"
      },
      "execution_count": null,
      "outputs": []
    },
    {
      "cell_type": "code",
      "source": [
        "# print the element in the 1 in 1st index and 0 in 2nd index\n",
        "print()"
      ],
      "metadata": {
        "id": "FUAD8VRLsvWm"
      },
      "execution_count": null,
      "outputs": []
    },
    {
      "cell_type": "markdown",
      "metadata": {
        "id": "-E4U5gf3Z4HN"
      },
      "source": [
        "### Array indexing\n",
        "Since arrays may be multidimensional, you must specify a slice for each dimension of the array"
      ]
    },
    {
      "cell_type": "code",
      "metadata": {
        "id": "7d-FXUVcZ4HN"
      },
      "source": [
        "# Create an 3-by-4 array with elements 1 to 12\n",
        "# Use reshape\n",
        "a = \n",
        "print(a)"
      ],
      "execution_count": null,
      "outputs": []
    },
    {
      "cell_type": "code",
      "source": [
        "# Use slicing to pull out the subarray consisting of the first two rows and columns 1 and 2; \n",
        "# and modify [0, 0] element of the array b into 0\n",
        "b = \n",
        "print(b)\n",
        "\n",
        "print(b[0,0], a[0, 1])\n",
        "b[0,0] = 2 # reset"
      ],
      "metadata": {
        "id": "0ygBm8Lfs7Me"
      },
      "execution_count": null,
      "outputs": []
    },
    {
      "cell_type": "code",
      "source": [
        "# Instead create an array with the subarray consisting of the first two rows and columns 1 and 2; \n",
        "# and modify [0, 0] element of the array b into 0\n",
        "b = \n",
        "print(b)\n",
        "\n",
        "print(b[0,0], a[0, 1])"
      ],
      "metadata": {
        "id": "BVS8HlY1tDX6"
      },
      "execution_count": null,
      "outputs": []
    },
    {
      "cell_type": "code",
      "source": [
        "# Get elements located by the [0, 2, 1] indices from each row of a matrix: [0,0], [1,2], [2,1]\n",
        "\n",
        "print()"
      ],
      "metadata": {
        "id": "5hMoDSQXtGF4"
      },
      "execution_count": null,
      "outputs": []
    },
    {
      "cell_type": "code",
      "source": [
        "# Add 10 to the [0, 2, 1] indices from each row of a matrix\n",
        "\n",
        "print(a)"
      ],
      "metadata": {
        "id": "wg-uDINGtIkv"
      },
      "execution_count": null,
      "outputs": []
    },
    {
      "cell_type": "markdown",
      "metadata": {
        "id": "O3SLOjcCZ4HQ"
      },
      "source": [
        "### Array math\n",
        "Basic mathematical functions operate elementwise on arrays, and are available both as operator overloads and as functions in the numpy module"
      ]
    },
    {
      "cell_type": "code",
      "metadata": {
        "id": "bA0mrBaxZ4HR"
      },
      "source": [
        "#############################################################\n",
        "# General Usage\n",
        "#############################################################\n",
        "x = np.array([[1,2],[3,4]], dtype=np.float64)\n",
        "y = np.array([[5,6],[7,8]], dtype=np.float64)\n",
        "\n",
        "# Elementwise product of x and y\n",
        "z =\n",
        "print(z)"
      ],
      "execution_count": null,
      "outputs": []
    },
    {
      "cell_type": "code",
      "source": [
        "# Matrix product of x and y\n",
        "z = \n",
        "print(z)"
      ],
      "metadata": {
        "id": "1HvT3im2tXJP"
      },
      "execution_count": null,
      "outputs": []
    },
    {
      "cell_type": "code",
      "source": [
        "# Compute sum of all elements in x\n",
        "z = \n",
        "print(z)  "
      ],
      "metadata": {
        "id": "NbiB6xhftZR1"
      },
      "execution_count": null,
      "outputs": []
    },
    {
      "cell_type": "code",
      "source": [
        "# Compute sum of each column in x;\n",
        "z = \n",
        "print(z) "
      ],
      "metadata": {
        "id": "lgXEdWpltcde"
      },
      "execution_count": null,
      "outputs": []
    },
    {
      "cell_type": "code",
      "source": [
        "# Compute sum of each row in x\n",
        "z = \n",
        "print(z)"
      ],
      "metadata": {
        "id": "y9Ev3o1HteF8"
      },
      "execution_count": null,
      "outputs": []
    },
    {
      "cell_type": "code",
      "metadata": {
        "id": "4K0WKNzKZ4HV"
      },
      "source": [
        "#############################################################\n",
        "# Broadcasting\n",
        "#############################################################\n",
        "x = np.array([[1,2,3], [4,5,6], [7,8,9], [10, 11, 12]])\n",
        "v = np.array([1, 0, 1])\n",
        "y = np.empty_like(x) \n",
        "\n",
        "# Add the vector v to each row of the matrix x with an explicit loop\n",
        "\n",
        "\n",
        "print(y)"
      ],
      "execution_count": null,
      "outputs": []
    },
    {
      "cell_type": "code",
      "source": [
        "# Add the vector v to each row of the matrix x with stacking v multiple times\n",
        "vv = \n",
        "y = \n",
        "print(y)"
      ],
      "metadata": {
        "id": "Sv11ESa5ti1g"
      },
      "execution_count": null,
      "outputs": []
    },
    {
      "cell_type": "code",
      "source": [
        "# Add the vector v to each row of the matrix x with broadcasting\n",
        "y = \n",
        "print(y)"
      ],
      "metadata": {
        "id": "gVCl6qnItnbx"
      },
      "execution_count": null,
      "outputs": []
    },
    {
      "cell_type": "code",
      "source": [
        "# Multiply matrix x by a constant 2:\n",
        "z = \n",
        "print(z)"
      ],
      "metadata": {
        "id": "XLVdHPB-tokJ"
      },
      "execution_count": null,
      "outputs": []
    },
    {
      "cell_type": "markdown",
      "metadata": {
        "id": "JfVAzU-SZ4HY"
      },
      "source": [
        "## 3. Matplotlib"
      ]
    },
    {
      "cell_type": "markdown",
      "metadata": {
        "id": "TwWERhCzZ4HZ"
      },
      "source": [
        "Matplotlib is a plotting library. In this section give a brief introduction to the `matplotlib.pyplot` module."
      ]
    },
    {
      "cell_type": "code",
      "metadata": {
        "id": "7htZpdnWZ4Ha"
      },
      "source": [
        "import matplotlib.pyplot as plt\n",
        "\n",
        "#By running this special iPython command, we will be displaying plots inline:\n",
        "%matplotlib inline"
      ],
      "execution_count": null,
      "outputs": []
    },
    {
      "cell_type": "markdown",
      "metadata": {
        "id": "ytG8gj6ZZ4Hd"
      },
      "source": [
        "### Plotting\n",
        "The most important function in `matplotlib` is plot, which allows you to plot 2D data. Here is a simple example:"
      ]
    },
    {
      "cell_type": "code",
      "metadata": {
        "id": "oWxsMTpAZ4He"
      },
      "source": [
        "# Compute the x and y coordinates for points on a sine curve\n",
        "x = np.arange(0, 3 * np.pi, 0.3)\n",
        "y = np.sin(x)"
      ],
      "execution_count": null,
      "outputs": []
    },
    {
      "cell_type": "code",
      "metadata": {
        "id": "CntsHZFKZ4Hh"
      },
      "source": [
        "# Plot the points using matplotlib\n",
        "plt.plot(x, y, '-')"
      ],
      "execution_count": null,
      "outputs": []
    },
    {
      "cell_type": "code",
      "metadata": {
        "id": "Tf4Z-ayfZ4Hl"
      },
      "source": [
        "# Plot the points using matplotlib\n",
        "plt.plot(x, y, 'o')"
      ],
      "execution_count": null,
      "outputs": []
    },
    {
      "cell_type": "code",
      "metadata": {
        "id": "qCupHYC5Z4Ho"
      },
      "source": [
        "# Plot the points using matplotlib\n",
        "plt.plot(x, y, '-o')"
      ],
      "execution_count": null,
      "outputs": []
    },
    {
      "cell_type": "code",
      "metadata": {
        "id": "HOAOjJcwZ4Hr"
      },
      "source": [
        "y_sin = np.sin(x)\n",
        "y_cos = np.cos(x)\n",
        "\n",
        "# Plot the points using matplotlib\n",
        "plt.plot(x, y_sin)\n",
        "plt.plot(x, y_cos)\n",
        "plt.xlabel('x axis label')\n",
        "plt.ylabel('y axis label')\n",
        "plt.title('Sine and Cosine')\n",
        "plt.legend(['Sine', 'Cosine'])"
      ],
      "execution_count": null,
      "outputs": []
    },
    {
      "cell_type": "markdown",
      "metadata": {
        "id": "VJkPpql5Z4Hv"
      },
      "source": [
        "### Subplots \n",
        "You can plot different things in the same figure using the subplot function. Here is an example:"
      ]
    },
    {
      "cell_type": "code",
      "metadata": {
        "id": "DP8VonWtZ4Hv"
      },
      "source": [
        "# Compute the x and y coordinates for points on sine and cosine curves\n",
        "x = np.arange(0, 3 * np.pi, 0.1)\n",
        "y_sin = np.sin(x)\n",
        "y_cos = np.cos(x)\n",
        "\n",
        "# Set up a subplot grid that has height 2 and width 1,\n",
        "# and set the first such subplot as active, and make the first plot.\n",
        "plt.subplot(2, 1, 1)\n",
        "plt.plot(x, y_sin)\n",
        "plt.title('Sine')\n",
        "\n",
        "# Set the second subplot as active, and make the second plot.\n",
        "plt.subplot(2, 1, 2)\n",
        "plt.plot(x, y_cos)\n",
        "plt.title('Cosine')\n",
        "\n",
        "# Show the figure.\n",
        "plt.show()"
      ],
      "execution_count": null,
      "outputs": []
    }
  ]
}

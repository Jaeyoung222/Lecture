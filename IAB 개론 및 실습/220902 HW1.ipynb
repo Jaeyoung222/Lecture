{
  "nbformat": 4,
  "nbformat_minor": 0,
  "metadata": {
    "kernelspec": {
      "display_name": "Python 3",
      "language": "python",
      "name": "python3"
    },
    "language_info": {
      "codemirror_mode": {
        "name": "ipython",
        "version": 3
      },
      "file_extension": ".py",
      "mimetype": "text/x-python",
      "name": "python",
      "nbconvert_exporter": "python",
      "pygments_lexer": "ipython3",
      "version": "3.6.2"
    },
    "colab": {
      "provenance": [],
      "collapsed_sections": [],
      "include_colab_link": true
    }
  },
  "cells": [
    {
      "cell_type": "markdown",
      "metadata": {
        "id": "view-in-github",
        "colab_type": "text"
      },
      "source": [
        "<a href=\"https://colab.research.google.com/github/Jaeyoung222/Lecture/blob/main/IAB%20%EA%B0%9C%EB%A1%A0%20%EB%B0%8F%20%EC%8B%A4%EC%8A%B5/220902%20HW1\" target=\"_parent\"><img src=\"https://colab.research.google.com/assets/colab-badge.svg\" alt=\"Open In Colab\"/></a>"
      ]
    },
    {
      "cell_type": "markdown",
      "metadata": {
        "id": "zfERSnIs4Pbp"
      },
      "source": [
        "# 지원 부서 추천 프로그램\n",
        "\n",
        "가상의 학교 '파이썬 스쿨'을 수료한 학생들은 가상의 기업 '파이썬컴퍼니'에 취직을 하려 한다. 파이썬컴퍼니에는 네개의 부서 A,B,C,D 가 있다. 각 부서는 {학점,어학점수,코딩능력시험점수,경력점수} 네가지 항목으로 지원자를 심사하지만 각 항목에 두는 가중치가 서로 다르다. 학생들은 네개의 사업부 중 하나에만 지원할 수 있다. 파이썬 스쿨에서 가장 배려심이 깊은 당신은 각 학생들에게 선발 가능성이 가장 높은 부서를 알려주는 Solution 함수를 만들어주려 한다.\n",
        "\n",
        "{학점, 어학점수, 코딩능력시험점수, 경력점수} 각 항목은 모두 100점 만점이다(0~100). <br>\n",
        "각각의 항목에 대한 가중치는 0.0에서 1.0 사이이고 네 항목에 대한 가중치 합은 1.0이다. <br>\n",
        "\n",
        "-----------------------------------------------------------------------------------------------------------------------------------"
      ]
    },
    {
      "cell_type": "markdown",
      "metadata": {
        "id": "HjSvYlpx4Pbp"
      },
      "source": [
        "**라이브러리 import 하기**(Import anything if you need)"
      ]
    },
    {
      "cell_type": "code",
      "metadata": {
        "id": "ANPS66ox4Pbq"
      },
      "source": [
        "###########################To do#################################\n",
        "import numpy as np\n",
        "#################################################################"
      ],
      "execution_count": 1,
      "outputs": []
    },
    {
      "cell_type": "markdown",
      "metadata": {
        "id": "2953GLqY4Pbt"
      },
      "source": [
        "**<학생 목록 및 항목별 성적>** <br>\n",
        "이름 / 학점 / 어학점수 / 코딩능력시험점수 / 경력점수 <br>\n",
        "\n",
        "Choi / 73 / 66 / 47 / 83 <br>\n",
        "Delao / 82 / 72 / 93 / 89 <br>\n",
        "Henry / 46 / 74 / 100 / 48 <br>\n",
        "Kim / 59 / 47 / 65 / 41 <br>\n",
        "Parish / 92 / 42 / 77 / 62 <br>\n",
        "Park / 71 / 41 / 64 / 59 <br>\n",
        "Stamps / 43 / 57 / 59 / 78 <br>\n",
        "Taylor / 70 / 91 / 88 / 54 <br>"
      ]
    },
    {
      "cell_type": "code",
      "metadata": {
        "id": "cXSdPJqu4Pbt"
      },
      "source": [
        "Students_list = ['Parish', 'Stamps', 'Henry', 'Kim', 'Choi', 'Park', 'Delao', 'Taylor']\n",
        "Students = np.array([[92,42,77,62],\n",
        "                     [43,57,59,78],\n",
        "                     [46,74,100,48],\n",
        "                     [59,47,65,41],\n",
        "                     [73,66,47,83],\n",
        "                     [71,41,64,59],\n",
        "                     [82,72,93,89],\n",
        "                     [70,91,88,54]])"
      ],
      "execution_count": 2,
      "outputs": []
    },
    {
      "cell_type": "markdown",
      "metadata": {
        "id": "5diAEcVw4Pbx"
      },
      "source": [
        "**<부서별 가중치>** <br>\n",
        "부서 / 학점 가중치 / 어학점수 가중치 / 코딩능력시험점수 가중치 / 경력점수 가중치\n",
        "\n",
        "A / 0.50 / 0.10 / 0.30 / 0.10 <br>\n",
        "B / 0.05 / 0.55 / 0.20 / 0.20 <br>\n",
        "C / 0.10 / 0.10 / 0.70 / 0.10 <br>\n",
        "D / 0.15 / 0.18 / 0.22 / 0.45"
      ]
    },
    {
      "cell_type": "code",
      "metadata": {
        "id": "euC-5YQ54Pby"
      },
      "source": [
        "Departments_list = ['A', 'B', 'C', 'D']\n",
        "Departments =  np.array([[0.50,0.10,0.30,0.10],\n",
        "                         [0.05,0.55,0.20,0.20],\n",
        "                         [0.10,0.10,0.70,0.10],\n",
        "                         [0.15,0.18,0.22,0.45]])"
      ],
      "execution_count": 3,
      "outputs": []
    },
    {
      "cell_type": "markdown",
      "metadata": {
        "id": "QjqY4XPX4Pb0"
      },
      "source": [
        "## 1. 각 부서가 절대평가로 지원자를 선발할 때,\n",
        "**학생별로 가장 높은 점수를 얻을 수 있는 추천부서를 알려주는 solution_1 함수 구현**"
      ]
    },
    {
      "cell_type": "code",
      "metadata": {
        "id": "jlGbF93r4Pb1"
      },
      "source": [
        "###########################To do#################################\n",
        "def solution_1(stu_list, stu, dep_list, dep):\n",
        "    results = {} # 학생이름을 key, 최고 점수 부서를 value 로 가지는 dictionary\n",
        "    for i in range(len(stu_list)) :\n",
        "      # 각 학생의 점수와 부서별 가중치 dot product\n",
        "      sum_dep_for_i = np.sum(stu[i]*dep,axis=1)\n",
        "\n",
        "      # 총점 중  최대값을 가지는 idx를 assign\n",
        "      max_score_idx = 0\n",
        "      for j in range(len(dep_list)) :\n",
        "        if sum_dep_for_i[j] >= sum_dep_for_i[max_score_idx] :\n",
        "          max_score_idx = j\n",
        "      results[stu_list[i]] = dep_list[max_score_idx]\n",
        "    return results\n",
        "#################################################################"
      ],
      "execution_count": 4,
      "outputs": []
    },
    {
      "cell_type": "markdown",
      "metadata": {
        "id": "1w9oXFIm4Pb3"
      },
      "source": [
        "**정답 확인**"
      ]
    },
    {
      "cell_type": "code",
      "metadata": {
        "id": "fashHe6D4Pb3",
        "colab": {
          "base_uri": "https://localhost:8080/"
        },
        "outputId": "837267fd-08f6-45b5-9f01-079855449a34"
      },
      "source": [
        "result = solution_1(Students_list, Students, Departments_list, Departments)\n",
        "print(result)\n",
        "\n",
        "answer = {'Park': 'A', 'Choi': 'D', 'Kim': 'C', 'Delao': 'C', 'Parish': 'A', 'Taylor': 'C', 'Henry': 'C', 'Stamps': 'D'}\n",
        "\n",
        "correct = True\n",
        "for i in answer.items():\n",
        "    if i not in result.items():\n",
        "        correct = False\n",
        "if correct: print('정답!')\n",
        "else: print('어딘가 틀렸습니다.')"
      ],
      "execution_count": 5,
      "outputs": [
        {
          "output_type": "stream",
          "name": "stdout",
          "text": [
            "{'Parish': 'A', 'Stamps': 'D', 'Henry': 'C', 'Kim': 'C', 'Choi': 'D', 'Park': 'A', 'Delao': 'C', 'Taylor': 'C'}\n",
            "정답!\n"
          ]
        }
      ]
    },
    {
      "cell_type": "markdown",
      "metadata": {
        "id": "7UC3IyfQ4Pb5"
      },
      "source": [
        "## 2. 각 부서가 상대평가로 지원자를 선발할 때,\n",
        "**각 부서 별로 가장 높은 점수를 얻은 학생 2명을 선발하며, A, B, C, D 부서의 순서로 우선권을 갖는다고 가정** <br>\n",
        "(1). A부서에서 가장 높은 점수를 받은 2명의 학생은 A부서를 추천<br>\n",
        "(2). (1)의 학생을 제외한 나머지 학생 중에, B부서에서 가장 높은 점수를 받은 2명의 학생은 B부서를 추천<br>\n",
        "(3). (1,2)의 학생을 제외한 나머지 학생 중에, C부서에서 가장 높은 점수를 받은 2명의 학생은 C부서를 추천<br>\n",
        "(4). (1,2,3)의 학생을 제외한 나머지 학생 중에, D부서에서 가장 높은 점수를 받은 2명의 학생은 D부서를 추천<br>\n",
        "**학생별로 선발될 추천부서를 알려주는 solution_2 함수 구현**"
      ]
    },
    {
      "cell_type": "code",
      "metadata": {
        "id": "tGvuT12-4Pb6"
      },
      "source": [
        "###########################To do#################################\n",
        "def solution_2(stu_list, stu, dep_list, dep):\n",
        "    results = {} # 학생이름을 key, 최고 점수 부서를 value 로 가지는 dictionary\n",
        "    \n",
        "    # 각 학생의 점수와 부서별 가중치 dot product하고, 학생 이름과 함께 list로 학생 별로 assign\n",
        "    score_list = []\n",
        "    for i in range(len(stu_list)) :\n",
        "      sum_dep_for_i = np.sum(stu[i]*dep,axis=1)\n",
        "      score_list.append([stu_list[i]]+[list(sum_dep_for_i)])\n",
        "    \n",
        "    # 부서 별로 차석까지 search 후 results에 학생 없으면 assign \n",
        "    for i in range(len(dep_list)) :\n",
        "      score_list.sort(key = lambda x : x[1][i],reverse=True) # 부서별 점수 내림차순으로 학생들 정렬\n",
        "      c = 0 # count 위한 variable c assign\n",
        "      for stu in score_list :\n",
        "        if c == 2 :\n",
        "          break\n",
        "        if stu[0] not in results :\n",
        "          c += 1\n",
        "          results[stu[0]] = dep_list[i]  \n",
        "    return results\n",
        "#################################################################"
      ],
      "execution_count": 11,
      "outputs": []
    },
    {
      "cell_type": "code",
      "metadata": {
        "id": "m40Jo_tu4Pb8",
        "colab": {
          "base_uri": "https://localhost:8080/"
        },
        "outputId": "0f784f45-a5ad-45bd-aa18-13ca15c85e3e"
      },
      "source": [
        "result = solution_2(Students_list, Students, Departments_list, Departments)\n",
        "print(result)\n",
        "\n",
        "answer = {'Park': 'C', 'Henry': 'B', 'Parish': 'A', 'Choi': 'D', 'Stamps': 'D', 'Delao': 'A', 'Kim': 'C', 'Taylor': 'B'}\n",
        "\n",
        "correct = True\n",
        "for i in answer.items():\n",
        "    if i not in result.items():\n",
        "        correct = False\n",
        "if correct: print('정답!')\n",
        "else: print('어딘가 틀렸습니다.')"
      ],
      "execution_count": 12,
      "outputs": [
        {
          "output_type": "stream",
          "name": "stdout",
          "text": [
            "{'Delao': 'A', 'Parish': 'A', 'Taylor': 'B', 'Henry': 'B', 'Park': 'C', 'Kim': 'C', 'Choi': 'D', 'Stamps': 'D'}\n",
            "정답!\n"
          ]
        }
      ]
    }
  ]
}
